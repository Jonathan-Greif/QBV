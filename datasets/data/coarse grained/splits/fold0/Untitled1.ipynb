{
 "cells": [
  {
   "cell_type": "code",
   "execution_count": 3,
   "id": "52cc9023",
   "metadata": {},
   "outputs": [
    {
     "name": "stdout",
     "output_type": "stream",
     "text": [
      "Replacement complete. Results saved in val_.csv\n"
     ]
    }
   ],
   "source": [
    "import csv\n",
    "\n",
    "# Define the input and output file names\n",
    "input_file = 'val.csv'\n",
    "output_file = 'val_.csv'\n",
    "\n",
    "# Define the word to replace and its replacement\n",
    "old_word = 'audio'\n",
    "new_word = 'vocal_imitations'\n",
    "\n",
    "# Open the input file for reading and the output file for writing\n",
    "with open(input_file, 'r', newline='') as infile, open(output_file, 'w', newline='') as outfile:\n",
    "    # Create CSV reader and writer objects\n",
    "    reader = csv.reader(infile)\n",
    "    writer = csv.writer(outfile)\n",
    "\n",
    "    # Iterate through each row in the input file\n",
    "    for row in reader:\n",
    "        # Replace the old word with the new word in each cell of the row\n",
    "        new_row = [cell.replace(old_word, new_word) for cell in row]\n",
    "        \n",
    "        # Write the modified row to the output file\n",
    "        writer.writerow(new_row)\n",
    "\n",
    "print(f\"Replacement complete. Results saved in {output_file}\")"
   ]
  },
  {
   "cell_type": "code",
   "execution_count": null,
   "id": "c11772e9",
   "metadata": {},
   "outputs": [],
   "source": []
  }
 ],
 "metadata": {
  "kernelspec": {
   "display_name": "Python 3 (ipykernel)",
   "language": "python",
   "name": "python3"
  },
  "language_info": {
   "codemirror_mode": {
    "name": "ipython",
    "version": 3
   },
   "file_extension": ".py",
   "mimetype": "text/x-python",
   "name": "python",
   "nbconvert_exporter": "python",
   "pygments_lexer": "ipython3",
   "version": "3.11.5"
  }
 },
 "nbformat": 4,
 "nbformat_minor": 5
}
